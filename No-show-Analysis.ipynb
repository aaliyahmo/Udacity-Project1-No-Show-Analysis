{
 "cells": [
  {
   "cell_type": "markdown",
   "metadata": {},
   "source": [
    "<h1><center>No-Show Doctor Appointments Analysis</center></h1> \n",
    "<h2><center>Project 1 by Aaliyah Motala</center></h2>"
   ]
  },
  {
   "cell_type": "markdown",
   "metadata": {},
   "source": [
    "## Table of Contents\n",
    "\n",
    "<ul>\n",
    "\n",
    " <li><a href=\"#intro\">Introduction</a></li>\n",
    " <li><a href=\"#wrangling\">Data Wrangling</a></li>\n",
    " <li><a href=\"#eda\">Exploratory Data Analysis</a></li>\n",
    " <li><a href=\"#conclusions\">Conclusions</a></li>\n",
    "\n",
    "</ul>"
   ]
  },
  {
   "cell_type": "markdown",
   "metadata": {},
   "source": [
    "<a id='intro'></a>\n",
    "## Introduction\n",
    "\n",
    "> A 'no-show' is term given to a patient who has scheduled an appointment yet did not make or 'show-up' to the appointment, this does not include a cancelation or a reschedule. Why is tracking no-shows so important? No-shows are a constant and long-standing issue for anyone in the medical field. \n",
    ">\n",
    ">Missing an appointment doesn't seem like a big deal, however, almost half of patients skip their scheduled appointments. Studies have found that the healthcare industry loses billions of dollars annually due to no-shows. \n",
    ">\n",
    ">Therefore, having accurate and consistant no-show data recorded, allows us to see how much of earnings are lost over time.\n",
    ">Patients can miss appointments for many reasons such as logistical, environmenal and/or financial issues. \n",
    ">\n",
    "><b>Questions to be answered by this dataset are as follows:</b> \n",
    "><ol>\n",
    "    <li>Does a longer wait time increase no-shows?</li>\n",
    "    <li>Do sms's decrease no-shows?</li>\n",
    "    <li>What ages tend to miss appointments more?</li>\n",
    "    <li>Which day has the most no-shows?</li>\n",
    "    <li>Does an increase in disabilities, increase the chances of them being a no-show?</li>\n",
    "></ol>\n",
    ">\n",
    ">This dataset tracks the no-shows in Brazil. The dataset (noshowappointments-kagglev2-may-2016) was taken from Kaggle on 04/Aug/22. The data will be analysed using Python and Pandas, Numpy and Matplotlib packages.\n"
   ]
  },
  {
   "cell_type": "code",
   "execution_count": 288,
   "metadata": {},
   "outputs": [],
   "source": [
    "#The data dictionary is included as some columns can be confusing such as 'no show'"
   ]
  },
  {
   "cell_type": "markdown",
   "metadata": {},
   "source": [
    "### Data Dictionary \n",
    ">\n",
    ">Patient ID<br>\n",
    ">-Patients unique number\n",
    ">\n",
    ">Appointment ID <br>\n",
    ">-Appointment unique number<br>\n",
    "<br>\n",
    ">Gender<br>\n",
    ">-Male or Female<br>\n",
    "<br>\n",
    ">Scheduled Day<br>\n",
    ">-The day the appointment was made<br>\n",
    "<br>\n",
    ">Appointment Day <br>\n",
    ">-The day of the appointment<br>\n",
    "<br>\n",
    ">Age<br>\n",
    ">-Age of patient<br>\n",
    "<br>\n",
    ">Neighbourhood<br>\n",
    ">-The area the appointment takes place<br>\n",
    "<br>\n",
    ">Scholarship<br>\n",
    ">-Government subsidy for health care, True or False<br>\n",
    "<br>\n",
    ">Hipertension<br>\n",
    ">-Health condition of High Blood Pressure, True or False<br>\n",
    "<br>\n",
    ">Diabetes<br>\n",
    ">-Health condition of High Blood Sugar, True or False<br>\n",
    "<br>\n",
    ">Alcoholism<br>\n",
    ">-Addiction to alcohol, True or False<br>\n",
    "<br>\n",
    ">Handcap<br>\n",
    ">-Number of disabilites, 0 to 4   e.g. 3 would mean 3 disabilies<br>\n",
    "<br>\n",
    ">SMS Recieved <br>\n",
    ">-Number of SMS's sent as reminders, True or False<br>\n",
    "<br>\n",
    ">No Show<br>\n",
    ">-If the patient showed up the appointment, Yes = did not show and No = did show up"
   ]
  },
  {
   "cell_type": "code",
   "execution_count": 289,
   "metadata": {},
   "outputs": [],
   "source": [
    "# Importing packages: \n",
    "\n",
    "import pandas as pd\n",
    "import numpy as np\n",
    "import seaborn as sns\n",
    "import matplotlib.pyplot as plt\n",
    "%matplotlib inline"
   ]
  },
  {
   "cell_type": "markdown",
   "metadata": {},
   "source": [
    "<a id='wrangling'></a>\n",
    "## Data Wrangling\n",
    ">\n",
    "><dl>\n",
    ">\n",
    "> <dt><a href=\"#prop\">General Properties</a></dt>\n",
    ">    <dd>Assessing and understanding data.</dd><br>\n",
    "><dt><a href=\"#clean\">Data Cleaning</a></dt>\n",
    ">    <dd>Transforming the dataset into one that can be analysed.</dd>\n",
    "></dl>\n",
    ">"
   ]
  },
  {
   "cell_type": "markdown",
   "metadata": {},
   "source": [
    "<a id='prop'></a>\n",
    "### General Properties\n"
   ]
  },
  {
   "cell_type": "code",
   "execution_count": 290,
   "metadata": {},
   "outputs": [],
   "source": [
    "#Loading data \n",
    "#using df and noshow_df as there is only 1 dataset.\n",
    "\n",
    "df = pd.read_csv(\"noshowappointments-kagglev2-may-2016.csv\")"
   ]
  },
  {
   "cell_type": "code",
   "execution_count": 291,
   "metadata": {},
   "outputs": [
    {
     "data": {
      "text/html": [
       "<div>\n",
       "<style scoped>\n",
       "    .dataframe tbody tr th:only-of-type {\n",
       "        vertical-align: middle;\n",
       "    }\n",
       "\n",
       "    .dataframe tbody tr th {\n",
       "        vertical-align: top;\n",
       "    }\n",
       "\n",
       "    .dataframe thead th {\n",
       "        text-align: right;\n",
       "    }\n",
       "</style>\n",
       "<table border=\"1\" class=\"dataframe\">\n",
       "  <thead>\n",
       "    <tr style=\"text-align: right;\">\n",
       "      <th></th>\n",
       "      <th>PatientId</th>\n",
       "      <th>AppointmentID</th>\n",
       "      <th>Gender</th>\n",
       "      <th>ScheduledDay</th>\n",
       "      <th>AppointmentDay</th>\n",
       "      <th>Age</th>\n",
       "      <th>Neighbourhood</th>\n",
       "      <th>Scholarship</th>\n",
       "      <th>Hipertension</th>\n",
       "      <th>Diabetes</th>\n",
       "      <th>Alcoholism</th>\n",
       "      <th>Handcap</th>\n",
       "      <th>SMS_received</th>\n",
       "      <th>No-show</th>\n",
       "    </tr>\n",
       "  </thead>\n",
       "  <tbody>\n",
       "    <tr>\n",
       "      <th>0</th>\n",
       "      <td>2.987250e+13</td>\n",
       "      <td>5642903</td>\n",
       "      <td>F</td>\n",
       "      <td>2016-04-29T18:38:08Z</td>\n",
       "      <td>2016-04-29T00:00:00Z</td>\n",
       "      <td>62</td>\n",
       "      <td>JARDIM DA PENHA</td>\n",
       "      <td>0</td>\n",
       "      <td>1</td>\n",
       "      <td>0</td>\n",
       "      <td>0</td>\n",
       "      <td>0</td>\n",
       "      <td>0</td>\n",
       "      <td>No</td>\n",
       "    </tr>\n",
       "    <tr>\n",
       "      <th>1</th>\n",
       "      <td>5.589978e+14</td>\n",
       "      <td>5642503</td>\n",
       "      <td>M</td>\n",
       "      <td>2016-04-29T16:08:27Z</td>\n",
       "      <td>2016-04-29T00:00:00Z</td>\n",
       "      <td>56</td>\n",
       "      <td>JARDIM DA PENHA</td>\n",
       "      <td>0</td>\n",
       "      <td>0</td>\n",
       "      <td>0</td>\n",
       "      <td>0</td>\n",
       "      <td>0</td>\n",
       "      <td>0</td>\n",
       "      <td>No</td>\n",
       "    </tr>\n",
       "    <tr>\n",
       "      <th>2</th>\n",
       "      <td>4.262962e+12</td>\n",
       "      <td>5642549</td>\n",
       "      <td>F</td>\n",
       "      <td>2016-04-29T16:19:04Z</td>\n",
       "      <td>2016-04-29T00:00:00Z</td>\n",
       "      <td>62</td>\n",
       "      <td>MATA DA PRAIA</td>\n",
       "      <td>0</td>\n",
       "      <td>0</td>\n",
       "      <td>0</td>\n",
       "      <td>0</td>\n",
       "      <td>0</td>\n",
       "      <td>0</td>\n",
       "      <td>No</td>\n",
       "    </tr>\n",
       "    <tr>\n",
       "      <th>3</th>\n",
       "      <td>8.679512e+11</td>\n",
       "      <td>5642828</td>\n",
       "      <td>F</td>\n",
       "      <td>2016-04-29T17:29:31Z</td>\n",
       "      <td>2016-04-29T00:00:00Z</td>\n",
       "      <td>8</td>\n",
       "      <td>PONTAL DE CAMBURI</td>\n",
       "      <td>0</td>\n",
       "      <td>0</td>\n",
       "      <td>0</td>\n",
       "      <td>0</td>\n",
       "      <td>0</td>\n",
       "      <td>0</td>\n",
       "      <td>No</td>\n",
       "    </tr>\n",
       "    <tr>\n",
       "      <th>4</th>\n",
       "      <td>8.841186e+12</td>\n",
       "      <td>5642494</td>\n",
       "      <td>F</td>\n",
       "      <td>2016-04-29T16:07:23Z</td>\n",
       "      <td>2016-04-29T00:00:00Z</td>\n",
       "      <td>56</td>\n",
       "      <td>JARDIM DA PENHA</td>\n",
       "      <td>0</td>\n",
       "      <td>1</td>\n",
       "      <td>1</td>\n",
       "      <td>0</td>\n",
       "      <td>0</td>\n",
       "      <td>0</td>\n",
       "      <td>No</td>\n",
       "    </tr>\n",
       "  </tbody>\n",
       "</table>\n",
       "</div>"
      ],
      "text/plain": [
       "      PatientId  AppointmentID Gender          ScheduledDay  \\\n",
       "0  2.987250e+13        5642903      F  2016-04-29T18:38:08Z   \n",
       "1  5.589978e+14        5642503      M  2016-04-29T16:08:27Z   \n",
       "2  4.262962e+12        5642549      F  2016-04-29T16:19:04Z   \n",
       "3  8.679512e+11        5642828      F  2016-04-29T17:29:31Z   \n",
       "4  8.841186e+12        5642494      F  2016-04-29T16:07:23Z   \n",
       "\n",
       "         AppointmentDay  Age      Neighbourhood  Scholarship  Hipertension  \\\n",
       "0  2016-04-29T00:00:00Z   62    JARDIM DA PENHA            0             1   \n",
       "1  2016-04-29T00:00:00Z   56    JARDIM DA PENHA            0             0   \n",
       "2  2016-04-29T00:00:00Z   62      MATA DA PRAIA            0             0   \n",
       "3  2016-04-29T00:00:00Z    8  PONTAL DE CAMBURI            0             0   \n",
       "4  2016-04-29T00:00:00Z   56    JARDIM DA PENHA            0             1   \n",
       "\n",
       "   Diabetes  Alcoholism  Handcap  SMS_received No-show  \n",
       "0         0           0        0             0      No  \n",
       "1         0           0        0             0      No  \n",
       "2         0           0        0             0      No  \n",
       "3         0           0        0             0      No  \n",
       "4         1           0        0             0      No  "
      ]
     },
     "execution_count": 291,
     "metadata": {},
     "output_type": "execute_result"
    }
   ],
   "source": [
    "df.head() \n",
    "\n",
    "#Checking what needs to be changed and the data formats"
   ]
  },
  {
   "cell_type": "code",
   "execution_count": 292,
   "metadata": {},
   "outputs": [
    {
     "data": {
      "text/plain": [
       "PatientId         float64\n",
       "AppointmentID       int64\n",
       "Gender             object\n",
       "ScheduledDay       object\n",
       "AppointmentDay     object\n",
       "Age                 int64\n",
       "Neighbourhood      object\n",
       "Scholarship         int64\n",
       "Hipertension        int64\n",
       "Diabetes            int64\n",
       "Alcoholism          int64\n",
       "Handcap             int64\n",
       "SMS_received        int64\n",
       "No-show            object\n",
       "dtype: object"
      ]
     },
     "execution_count": 292,
     "metadata": {},
     "output_type": "execute_result"
    }
   ],
   "source": [
    "df.dtypes \n",
    "\n",
    "#understanded the data types and what should change"
   ]
  },
  {
   "cell_type": "code",
   "execution_count": 293,
   "metadata": {},
   "outputs": [
    {
     "data": {
      "text/plain": [
       "(110527, 14)"
      ]
     },
     "execution_count": 293,
     "metadata": {},
     "output_type": "execute_result"
    }
   ],
   "source": [
    "df.shape\n",
    "\n",
    "#How many rows and columns"
   ]
  },
  {
   "cell_type": "code",
   "execution_count": 294,
   "metadata": {},
   "outputs": [
    {
     "data": {
      "text/plain": [
       "PatientId          62299\n",
       "AppointmentID     110527\n",
       "Gender                 2\n",
       "ScheduledDay      103549\n",
       "AppointmentDay        27\n",
       "Age                  104\n",
       "Neighbourhood         81\n",
       "Scholarship            2\n",
       "Hipertension           2\n",
       "Diabetes               2\n",
       "Alcoholism             2\n",
       "Handcap                5\n",
       "SMS_received           2\n",
       "No-show                2\n",
       "dtype: int64"
      ]
     },
     "execution_count": 294,
     "metadata": {},
     "output_type": "execute_result"
    }
   ],
   "source": [
    "df.nunique()\n",
    "\n",
    "#how many unqiue values for each column"
   ]
  },
  {
   "cell_type": "code",
   "execution_count": 295,
   "metadata": {},
   "outputs": [
    {
     "name": "stdout",
     "output_type": "stream",
     "text": [
      "[0 1 2 3 4]\n"
     ]
    }
   ],
   "source": [
    "print(df['Handcap'].unique())\n",
    "\n",
    "#checking the values for handcap"
   ]
  },
  {
   "cell_type": "code",
   "execution_count": 296,
   "metadata": {},
   "outputs": [
    {
     "name": "stdout",
     "output_type": "stream",
     "text": [
      "[ 62  56   8  76  23  39  21  19  30  29  22  28  54  15  50  40  46   4\n",
      "  13  65  45  51  32  12  61  38  79  18  63  64  85  59  55  71  49  78\n",
      "  31  58  27   6   2  11   7   0   3   1  69  68  60  67  36  10  35  20\n",
      "  26  34  33  16  42   5  47  17  41  44  37  24  66  77  81  70  53  75\n",
      "  73  52  74  43  89  57  14   9  48  83  72  25  80  87  88  84  82  90\n",
      "  94  86  91  98  92  96  93  95  97 102 115 100  99  -1]\n"
     ]
    }
   ],
   "source": [
    "print(df['Age'].unique())\n",
    "\n",
    "#checking values for age"
   ]
  },
  {
   "cell_type": "code",
   "execution_count": 297,
   "metadata": {},
   "outputs": [
    {
     "data": {
      "text/plain": [
       "0"
      ]
     },
     "execution_count": 297,
     "metadata": {},
     "output_type": "execute_result"
    }
   ],
   "source": [
    "sum(df.duplicated())\n",
    "\n",
    "#checking for duplicates"
   ]
  },
  {
   "cell_type": "code",
   "execution_count": 298,
   "metadata": {},
   "outputs": [
    {
     "data": {
      "text/plain": [
       "False"
      ]
     },
     "execution_count": 298,
     "metadata": {},
     "output_type": "execute_result"
    }
   ],
   "source": [
    "df.isnull().values.any()\n",
    "\n",
    "#checking for any null values"
   ]
  },
  {
   "cell_type": "code",
   "execution_count": 299,
   "metadata": {},
   "outputs": [
    {
     "data": {
      "image/png": "[encoded data removed]",
      "text/plain": [
       "<Figure size 864x864 with 9 Axes>"
      ]
     },
     "metadata": {
      "needs_background": "light"
     },
     "output_type": "display_data"
    }
   ],
   "source": [
    "df.hist(figsize=(12,12), alpha=1);\n",
    "\n",
    "#checking the values distribution for each variable"
   ]
  },
  {
   "cell_type": "markdown",
   "metadata": {},
   "source": [
    "<a id='clean'></a>\n",
    "### Data Cleaning"
   ]
  },
  {
   "cell_type": "code",
   "execution_count": 300,
   "metadata": {},
   "outputs": [],
   "source": [
    "df.rename(columns = {'PatientId':'Patient_ID', 'AppointmentID':'Appointment_ID','ScheduledDay':'Scheduled_Day', 'AppointmentDay':'Appointment_Day', 'Hipertension':'Hypertension', 'Handcap':'Disability', 'No-show':'No_Show'}, inplace = True)\n",
    "\n",
    "#Rename columns to make them easier to read by separating words and corrected spelling. \n",
    "#The word 'Handicap' is found offensive by many, so I've changed it to disability."
   ]
  },
  {
   "cell_type": "code",
   "execution_count": 301,
   "metadata": {},
   "outputs": [
    {
     "data": {
      "text/plain": [
       "Index(['patient_id', 'appointment_id', 'gender', 'scheduled_day',\n",
       "       'appointment_day', 'age', 'neighbourhood', 'scholarship',\n",
       "       'hypertension', 'diabetes', 'alcoholism', 'disability', 'sms_received',\n",
       "       'no_show'],\n",
       "      dtype='object')"
      ]
     },
     "execution_count": 301,
     "metadata": {},
     "output_type": "execute_result"
    }
   ],
   "source": [
    "df.columns= df.columns.str.lower()\n",
    "df.columns\n",
    "\n",
    "#making all the columns lowercase"
   ]
  },
  {
   "cell_type": "code",
   "execution_count": 302,
   "metadata": {},
   "outputs": [
    {
     "data": {
      "text/html": [
       "<div>\n",
       "<style scoped>\n",
       "    .dataframe tbody tr th:only-of-type {\n",
       "        vertical-align: middle;\n",
       "    }\n",
       "\n",
       "    .dataframe tbody tr th {\n",
       "        vertical-align: top;\n",
       "    }\n",
       "\n",
       "    .dataframe thead th {\n",
       "        text-align: right;\n",
       "    }\n",
       "</style>\n",
       "<table border=\"1\" class=\"dataframe\">\n",
       "  <thead>\n",
       "    <tr style=\"text-align: right;\">\n",
       "      <th></th>\n",
       "      <th>patient_id</th>\n",
       "      <th>appointment_id</th>\n",
       "      <th>gender</th>\n",
       "      <th>scheduled_day</th>\n",
       "      <th>appointment_day</th>\n",
       "      <th>age</th>\n",
       "      <th>neighbourhood</th>\n",
       "      <th>scholarship</th>\n",
       "      <th>hypertension</th>\n",
       "      <th>diabetes</th>\n",
       "      <th>alcoholism</th>\n",
       "      <th>disability</th>\n",
       "      <th>sms_received</th>\n",
       "      <th>no_show</th>\n",
       "    </tr>\n",
       "  </thead>\n",
       "  <tbody>\n",
       "    <tr>\n",
       "      <th>0</th>\n",
       "      <td>2.987250e+13</td>\n",
       "      <td>5642903</td>\n",
       "      <td>F</td>\n",
       "      <td>2016-04-29T18:38:08Z</td>\n",
       "      <td>2016-04-29T00:00:00Z</td>\n",
       "      <td>62</td>\n",
       "      <td>JARDIM DA PENHA</td>\n",
       "      <td>0</td>\n",
       "      <td>1</td>\n",
       "      <td>0</td>\n",
       "      <td>0</td>\n",
       "      <td>0</td>\n",
       "      <td>0</td>\n",
       "      <td>No</td>\n",
       "    </tr>\n",
       "    <tr>\n",
       "      <th>1</th>\n",
       "      <td>5.589978e+14</td>\n",
       "      <td>5642503</td>\n",
       "      <td>M</td>\n",
       "      <td>2016-04-29T16:08:27Z</td>\n",
       "      <td>2016-04-29T00:00:00Z</td>\n",
       "      <td>56</td>\n",
       "      <td>JARDIM DA PENHA</td>\n",
       "      <td>0</td>\n",
       "      <td>0</td>\n",
       "      <td>0</td>\n",
       "      <td>0</td>\n",
       "      <td>0</td>\n",
       "      <td>0</td>\n",
       "      <td>No</td>\n",
       "    </tr>\n",
       "    <tr>\n",
       "      <th>2</th>\n",
       "      <td>4.262962e+12</td>\n",
       "      <td>5642549</td>\n",
       "      <td>F</td>\n",
       "      <td>2016-04-29T16:19:04Z</td>\n",
       "      <td>2016-04-29T00:00:00Z</td>\n",
       "      <td>62</td>\n",
       "      <td>MATA DA PRAIA</td>\n",
       "      <td>0</td>\n",
       "      <td>0</td>\n",
       "      <td>0</td>\n",
       "      <td>0</td>\n",
       "      <td>0</td>\n",
       "      <td>0</td>\n",
       "      <td>No</td>\n",
       "    </tr>\n",
       "    <tr>\n",
       "      <th>3</th>\n",
       "      <td>8.679512e+11</td>\n",
       "      <td>5642828</td>\n",
       "      <td>F</td>\n",
       "      <td>2016-04-29T17:29:31Z</td>\n",
       "      <td>2016-04-29T00:00:00Z</td>\n",
       "      <td>8</td>\n",
       "      <td>PONTAL DE CAMBURI</td>\n",
       "      <td>0</td>\n",
       "      <td>0</td>\n",
       "      <td>0</td>\n",
       "      <td>0</td>\n",
       "      <td>0</td>\n",
       "      <td>0</td>\n",
       "      <td>No</td>\n",
       "    </tr>\n",
       "    <tr>\n",
       "      <th>4</th>\n",
       "      <td>8.841186e+12</td>\n",
       "      <td>5642494</td>\n",
       "      <td>F</td>\n",
       "      <td>2016-04-29T16:07:23Z</td>\n",
       "      <td>2016-04-29T00:00:00Z</td>\n",
       "      <td>56</td>\n",
       "      <td>JARDIM DA PENHA</td>\n",
       "      <td>0</td>\n",
       "      <td>1</td>\n",
       "      <td>1</td>\n",
       "      <td>0</td>\n",
       "      <td>0</td>\n",
       "      <td>0</td>\n",
       "      <td>No</td>\n",
       "    </tr>\n",
       "  </tbody>\n",
       "</table>\n",
       "</div>"
      ],
      "text/plain": [
       "     patient_id  appointment_id gender         scheduled_day  \\\n",
       "0  2.987250e+13         5642903      F  2016-04-29T18:38:08Z   \n",
       "1  5.589978e+14         5642503      M  2016-04-29T16:08:27Z   \n",
       "2  4.262962e+12         5642549      F  2016-04-29T16:19:04Z   \n",
       "3  8.679512e+11         5642828      F  2016-04-29T17:29:31Z   \n",
       "4  8.841186e+12         5642494      F  2016-04-29T16:07:23Z   \n",
       "\n",
       "        appointment_day  age      neighbourhood  scholarship  hypertension  \\\n",
       "0  2016-04-29T00:00:00Z   62    JARDIM DA PENHA            0             1   \n",
       "1  2016-04-29T00:00:00Z   56    JARDIM DA PENHA            0             0   \n",
       "2  2016-04-29T00:00:00Z   62      MATA DA PRAIA            0             0   \n",
       "3  2016-04-29T00:00:00Z    8  PONTAL DE CAMBURI            0             0   \n",
       "4  2016-04-29T00:00:00Z   56    JARDIM DA PENHA            0             1   \n",
       "\n",
       "   diabetes  alcoholism  disability  sms_received no_show  \n",
       "0         0           0           0             0      No  \n",
       "1         0           0           0             0      No  \n",
       "2         0           0           0             0      No  \n",
       "3         0           0           0             0      No  \n",
       "4         1           0           0             0      No  "
      ]
     },
     "execution_count": 302,
     "metadata": {},
     "output_type": "execute_result"
    }
   ],
   "source": [
    "df.head()\n",
    "\n",
    "#Checking if they changed "
   ]
  },
  {
   "cell_type": "code",
   "execution_count": 303,
   "metadata": {},
   "outputs": [],
   "source": [
    "df['scheduled_day'] = pd.to_datetime(df['scheduled_day']).dt.normalize()\n",
    "df['appointment_day'] = pd.to_datetime(df['appointment_day']).dt.normalize()\n",
    "\n",
    "#changing strings to date-time data type and removing time"
   ]
  },
  {
   "cell_type": "code",
   "execution_count": 304,
   "metadata": {},
   "outputs": [
    {
     "data": {
      "text/html": [
       "<div>\n",
       "<style scoped>\n",
       "    .dataframe tbody tr th:only-of-type {\n",
       "        vertical-align: middle;\n",
       "    }\n",
       "\n",
       "    .dataframe tbody tr th {\n",
       "        vertical-align: top;\n",
       "    }\n",
       "\n",
       "    .dataframe thead th {\n",
       "        text-align: right;\n",
       "    }\n",
       "</style>\n",
       "<table border=\"1\" class=\"dataframe\">\n",
       "  <thead>\n",
       "    <tr style=\"text-align: right;\">\n",
       "      <th></th>\n",
       "      <th>patient_id</th>\n",
       "      <th>appointment_id</th>\n",
       "      <th>gender</th>\n",
       "      <th>scheduled_day</th>\n",
       "      <th>appointment_day</th>\n",
       "      <th>age</th>\n",
       "      <th>neighbourhood</th>\n",
       "      <th>scholarship</th>\n",
       "      <th>hypertension</th>\n",
       "      <th>diabetes</th>\n",
       "      <th>alcoholism</th>\n",
       "      <th>disability</th>\n",
       "      <th>sms_received</th>\n",
       "      <th>no_show</th>\n",
       "    </tr>\n",
       "  </thead>\n",
       "  <tbody>\n",
       "    <tr>\n",
       "      <th>0</th>\n",
       "      <td>2.987250e+13</td>\n",
       "      <td>5642903</td>\n",
       "      <td>F</td>\n",
       "      <td>2016-04-29 00:00:00+00:00</td>\n",
       "      <td>2016-04-29 00:00:00+00:00</td>\n",
       "      <td>62</td>\n",
       "      <td>JARDIM DA PENHA</td>\n",
       "      <td>0</td>\n",
       "      <td>1</td>\n",
       "      <td>0</td>\n",
       "      <td>0</td>\n",
       "      <td>0</td>\n",
       "      <td>0</td>\n",
       "      <td>No</td>\n",
       "    </tr>\n",
       "    <tr>\n",
       "      <th>1</th>\n",
       "      <td>5.589978e+14</td>\n",
       "      <td>5642503</td>\n",
       "      <td>M</td>\n",
       "      <td>2016-04-29 00:00:00+00:00</td>\n",
       "      <td>2016-04-29 00:00:00+00:00</td>\n",
       "      <td>56</td>\n",
       "      <td>JARDIM DA PENHA</td>\n",
       "      <td>0</td>\n",
       "      <td>0</td>\n",
       "      <td>0</td>\n",
       "      <td>0</td>\n",
       "      <td>0</td>\n",
       "      <td>0</td>\n",
       "      <td>No</td>\n",
       "    </tr>\n",
       "    <tr>\n",
       "      <th>2</th>\n",
       "      <td>4.262962e+12</td>\n",
       "      <td>5642549</td>\n",
       "      <td>F</td>\n",
       "      <td>2016-04-29 00:00:00+00:00</td>\n",
       "      <td>2016-04-29 00:00:00+00:00</td>\n",
       "      <td>62</td>\n",
       "      <td>MATA DA PRAIA</td>\n",
       "      <td>0</td>\n",
       "      <td>0</td>\n",
       "      <td>0</td>\n",
       "      <td>0</td>\n",
       "      <td>0</td>\n",
       "      <td>0</td>\n",
       "      <td>No</td>\n",
       "    </tr>\n",
       "    <tr>\n",
       "      <th>3</th>\n",
       "      <td>8.679512e+11</td>\n",
       "      <td>5642828</td>\n",
       "      <td>F</td>\n",
       "      <td>2016-04-29 00:00:00+00:00</td>\n",
       "      <td>2016-04-29 00:00:00+00:00</td>\n",
       "      <td>8</td>\n",
       "      <td>PONTAL DE CAMBURI</td>\n",
       "      <td>0</td>\n",
       "      <td>0</td>\n",
       "      <td>0</td>\n",
       "      <td>0</td>\n",
       "      <td>0</td>\n",
       "      <td>0</td>\n",
       "      <td>No</td>\n",
       "    </tr>\n",
       "    <tr>\n",
       "      <th>4</th>\n",
       "      <td>8.841186e+12</td>\n",
       "      <td>5642494</td>\n",
       "      <td>F</td>\n",
       "      <td>2016-04-29 00:00:00+00:00</td>\n",
       "      <td>2016-04-29 00:00:00+00:00</td>\n",
       "      <td>56</td>\n",
       "      <td>JARDIM DA PENHA</td>\n",
       "      <td>0</td>\n",
       "      <td>1</td>\n",
       "      <td>1</td>\n",
       "      <td>0</td>\n",
       "      <td>0</td>\n",
       "      <td>0</td>\n",
       "      <td>No</td>\n",
       "    </tr>\n",
       "  </tbody>\n",
       "</table>\n",
       "</div>"
      ],
      "text/plain": [
       "     patient_id  appointment_id gender             scheduled_day  \\\n",
       "0  2.987250e+13         5642903      F 2016-04-29 00:00:00+00:00   \n",
       "1  5.589978e+14         5642503      M 2016-04-29 00:00:00+00:00   \n",
       "2  4.262962e+12         5642549      F 2016-04-29 00:00:00+00:00   \n",
       "3  8.679512e+11         5642828      F 2016-04-29 00:00:00+00:00   \n",
       "4  8.841186e+12         5642494      F 2016-04-29 00:00:00+00:00   \n",
       "\n",
       "            appointment_day  age      neighbourhood  scholarship  \\\n",
       "0 2016-04-29 00:00:00+00:00   62    JARDIM DA PENHA            0   \n",
       "1 2016-04-29 00:00:00+00:00   56    JARDIM DA PENHA            0   \n",
       "2 2016-04-29 00:00:00+00:00   62      MATA DA PRAIA            0   \n",
       "3 2016-04-29 00:00:00+00:00    8  PONTAL DE CAMBURI            0   \n",
       "4 2016-04-29 00:00:00+00:00   56    JARDIM DA PENHA            0   \n",
       "\n",
       "   hypertension  diabetes  alcoholism  disability  sms_received no_show  \n",
       "0             1         0           0           0             0      No  \n",
       "1             0         0           0           0             0      No  \n",
       "2             0         0           0           0             0      No  \n",
       "3             0         0           0           0             0      No  \n",
       "4             1         1           0           0             0      No  "
      ]
     },
     "execution_count": 304,
     "metadata": {},
     "output_type": "execute_result"
    }
   ],
   "source": [
    "df.head()\n",
    "\n",
    "#Seeing the change. Time was irrelevant as only scheduled day had time"
   ]
  },
  {
   "cell_type": "code",
   "execution_count": 305,
   "metadata": {},
   "outputs": [
    {
     "data": {
      "text/plain": [
       "patient_id                     float64\n",
       "appointment_id                   int64\n",
       "gender                          object\n",
       "scheduled_day      datetime64[ns, UTC]\n",
       "appointment_day    datetime64[ns, UTC]\n",
       "age                              int64\n",
       "neighbourhood                   object\n",
       "scholarship                      int64\n",
       "hypertension                     int64\n",
       "diabetes                         int64\n",
       "alcoholism                       int64\n",
       "disability                       int64\n",
       "sms_received                     int64\n",
       "no_show                         object\n",
       "dtype: object"
      ]
     },
     "execution_count": 305,
     "metadata": {},
     "output_type": "execute_result"
    }
   ],
   "source": [
    "df.dtypes\n",
    "\n",
    "#checking if it changed"
   ]
  },
  {
   "cell_type": "code",
   "execution_count": 306,
   "metadata": {},
   "outputs": [],
   "source": [
    "df = df[(df.age >= 0) & (df.age <= 100)]\n",
    "\n",
    "#Filtering for ages over 0 to 100 (exlcuding the outliers)"
   ]
  },
  {
   "cell_type": "code",
   "execution_count": 307,
   "metadata": {},
   "outputs": [],
   "source": [
    "df['day_of_week'] = df['appointment_day'].dt.day_name()\n",
    "\n",
    "#Creating a column with the days of the week of the appointment days"
   ]
  },
  {
   "cell_type": "code",
   "execution_count": 308,
   "metadata": {},
   "outputs": [
    {
     "data": {
      "text/plain": [
       "array(['Friday', 'Tuesday', 'Monday', 'Wednesday', 'Thursday', 'Saturday'],\n",
       "      dtype=object)"
      ]
     },
     "execution_count": 308,
     "metadata": {},
     "output_type": "execute_result"
    }
   ],
   "source": [
    "df.day_of_week.unique()\n",
    "\n",
    "#checking values in the column"
   ]
  },
  {
   "cell_type": "code",
   "execution_count": 309,
   "metadata": {},
   "outputs": [],
   "source": [
    "df['waiting_time'] = df['appointment_day'] - df['scheduled_day'] \n",
    "\n",
    "#how long patients waited for their appointment"
   ]
  },
  {
   "cell_type": "code",
   "execution_count": 310,
   "metadata": {},
   "outputs": [
    {
     "data": {
      "text/plain": [
       "array([                0,   172800000000000,   259200000000000,\n",
       "          86400000000000,   345600000000000,   777600000000000,\n",
       "        2505600000000000,   864000000000000,  1987200000000000,\n",
       "         950400000000000,  1555200000000000,  1468800000000000,\n",
       "        1209600000000000,  2419200000000000,  2073600000000000,\n",
       "        1814400000000000,  1296000000000000,  1382400000000000,\n",
       "        1900800000000000,  3715200000000000,  2592000000000000,\n",
       "        2678400000000000,  3628800000000000,  2764800000000000,\n",
       "        4838400000000000,  3888000000000000,  3974400000000000,\n",
       "        3369600000000000,  3196800000000000,  3283200000000000,\n",
       "        3801600000000000,  4320000000000000,  5184000000000000,\n",
       "        4492800000000000,  4579200000000000,  5616000000000000,\n",
       "        5788800000000000,  7862400000000000,  5702400000000000,\n",
       "        7257600000000000,  6739200000000000,  7516800000000000,\n",
       "        9936000000000000,  9417600000000000,  5443200000000000,\n",
       "        6048000000000000,  6220800000000000,  4924800000000000,\n",
       "        5011200000000000,  4406400000000000,  5097600000000000,\n",
       "        3542400000000000,  4233600000000000,  6307200000000000,\n",
       "        5529600000000000,  1728000000000000,  2851200000000000,\n",
       "        2937600000000000,   518400000000000,  3024000000000000,\n",
       "        3110400000000000,  1036800000000000,  1123200000000000,\n",
       "        3456000000000000,  4060800000000000,   691200000000000,\n",
       "         432000000000000,   604800000000000,  2160000000000000,\n",
       "        2246400000000000,  4147200000000000,  2332800000000000,\n",
       "        1641600000000000,  5270400000000000,  4752000000000000,\n",
       "        5356800000000000, 15206400000000000,  4665600000000000,\n",
       "        6652800000000000,  5961600000000000,  7171200000000000,\n",
       "        6566400000000000,  7689600000000000,  6998400000000000,\n",
       "        8899200000000000,  6825600000000000,  5875200000000000,\n",
       "        6480000000000000,  7344000000000000,  9676800000000000,\n",
       "         -86400000000000,  6912000000000000,  7430400000000000,\n",
       "        8467200000000000,  8121600000000000, 12268800000000000,\n",
       "       13392000000000000, 13996800000000000, 14601600000000000,\n",
       "        8985600000000000, 11491200000000000, 10800000000000000,\n",
       "        8294400000000000,  7603200000000000,  7776000000000000,\n",
       "       13046400000000000, 10886400000000000, 10972800000000000,\n",
       "        9590400000000000, 10281600000000000,  6393600000000000,\n",
       "        6134400000000000,  7084800000000000,  9331200000000000,\n",
       "        9504000000000000,  8812800000000000, 10540800000000000,\n",
       "        8726400000000000,  9072000000000000,  7948800000000000,\n",
       "        8380800000000000,  8035200000000000,  9244800000000000,\n",
       "        8208000000000000,  -518400000000000, 12009600000000000,\n",
       "       11404800000000000, 15465600000000000, 10108800000000000,\n",
       "       12614400000000000, 10627200000000000], dtype='timedelta64[ns]')"
      ]
     },
     "execution_count": 310,
     "metadata": {},
     "output_type": "execute_result"
    }
   ],
   "source": [
    "df.waiting_time.unique()\n",
    "\n",
    "#there are negative waiting times"
   ]
  },
  {
   "cell_type": "code",
   "execution_count": 311,
   "metadata": {},
   "outputs": [],
   "source": [
    "df = (df[(df['appointment_day']>df['scheduled_day'])])\n",
    "\n",
    "#dropping negative waiting times"
   ]
  },
  {
   "cell_type": "code",
   "execution_count": 312,
   "metadata": {},
   "outputs": [
    {
     "data": {
      "text/plain": [
       "(71954, 16)"
      ]
     },
     "execution_count": 312,
     "metadata": {},
     "output_type": "execute_result"
    }
   ],
   "source": [
    "df.shape\n",
    "\n",
    "#checking new shape, about 33000 rows were dropped"
   ]
  },
  {
   "cell_type": "markdown",
   "metadata": {},
   "source": [
    "<a id='eda'></a>\n",
    "## Exploratory Data Analysis\n",
    "\n",
    "<ol>\n",
    "\n",
    " <li><a href=\"#wait\">Waiting time and No-shows</a></li>\n",
    " <li><a href=\"#sms\">SMS recieved and No-shows</a></li>\n",
    " <li><a href=\"#age\">Age groups and No-shows</a></li>\n",
    " <li><a href=\"#day\">Days of the week and No-shows</a></li>\n",
    " <li><a href=\"#Disability\">Disabilities and No-shows</a></li>\n",
    "\n",
    "\n",
    "</ol>"
   ]
  },
  {
   "cell_type": "markdown",
   "metadata": {},
   "source": [
    "<a id='wait'></a>\n",
    "### 1. Does a longer wait time increase no-shows?\n",
    "\n",
    ">According to <a href=https://www.ncbi.nlm.nih.gov/pmc/articles/PMC7280239/>Marbouh, D. et. al. (2020)</a>, a longer waiting period between the initial appointment made and the actual appointment, increases no-shows. This could be due to many factors such as forgetfulness, loss in urgency to treat condition etc. "
   ]
  },
  {
   "cell_type": "code",
   "execution_count": 340,
   "metadata": {
    "scrolled": true
   },
   "outputs": [
    {
     "data": {
      "text/plain": [
       "2 days      6724\n",
       "4 days      5290\n",
       "1 days      5213\n",
       "7 days      4906\n",
       "6 days      4037\n",
       "            ... \n",
       "132 days       1\n",
       "125 days       1\n",
       "117 days       1\n",
       "146 days       1\n",
       "123 days       1\n",
       "Name: waiting_time, Length: 128, dtype: int64"
      ]
     },
     "execution_count": 340,
     "metadata": {},
     "output_type": "execute_result"
    }
   ],
   "source": [
    "df[\"waiting_time\"].value_counts()\n",
    "\n",
    "#checking the value counts for waiting time"
   ]
  },
  {
   "cell_type": "code",
   "execution_count": 341,
   "metadata": {},
   "outputs": [],
   "source": [
    "df['wait_time'] = df['waiting_time'].astype(str)\n",
    "\n",
    "#converting int to a string so I can remove \"days\""
   ]
  },
  {
   "cell_type": "code",
   "execution_count": 342,
   "metadata": {},
   "outputs": [
    {
     "data": {
      "text/plain": [
       "dtype('O')"
      ]
     },
     "execution_count": 342,
     "metadata": {},
     "output_type": "execute_result"
    }
   ],
   "source": [
    "df['wait_time'].dtype\n",
    "\n",
    "#confirming its a string"
   ]
  },
  {
   "cell_type": "code",
   "execution_count": 343,
   "metadata": {},
   "outputs": [],
   "source": [
    "df['wait_time'] = df['wait_time'].str.replace(\"days\", \"\")\n",
    "\n",
    "#removing the word days"
   ]
  },
  {
   "cell_type": "code",
   "execution_count": 344,
   "metadata": {},
   "outputs": [
    {
     "name": "stdout",
     "output_type": "stream",
     "text": [
      "5          2 \n",
      "6          2 \n",
      "7          2 \n",
      "9          2 \n",
      "10         2 \n",
      "         ... \n",
      "110522    35 \n",
      "110523    35 \n",
      "110524    41 \n",
      "110525    41 \n",
      "110526    41 \n",
      "Name: wait_time, Length: 71954, dtype: object\n"
     ]
    }
   ],
   "source": [
    "print(df['wait_time'])\n",
    "\n",
    "#checking"
   ]
  },
  {
   "cell_type": "code",
   "execution_count": 345,
   "metadata": {},
   "outputs": [],
   "source": [
    "df['wait_time'] = df['wait_time'].astype(int)\n",
    "\n",
    "#int so its easier to sort for graphs"
   ]
  },
  {
   "cell_type": "code",
   "execution_count": 346,
   "metadata": {
    "scrolled": true
   },
   "outputs": [
    {
     "data": {
      "image/png": "[encoded data removed]",
      "text/plain": [
       "<Figure size 1440x720 with 1 Axes>"
      ]
     },
     "metadata": {
      "needs_background": "light"
     },
     "output_type": "display_data"
    }
   ],
   "source": [
    "ax = df.wait_time.hist(figsize=(20,10))\n",
    "plt.show()\n",
    "\n",
    "#distribution of wait time "
   ]
  },
  {
   "cell_type": "markdown",
   "metadata": {},
   "source": [
    ">We can see that most people will wait around 0 to 15 days. Values distribution is right skewed."
   ]
  },
  {
   "cell_type": "code",
   "execution_count": 362,
   "metadata": {},
   "outputs": [],
   "source": [
    "df.no_show.replace((\"Yes\", \"No\"), (\"yes\", \"no\"), inplace=True)\n",
    "\n",
    "#changing it to lowercase"
   ]
  },
  {
   "cell_type": "code",
   "execution_count": 363,
   "metadata": {},
   "outputs": [
    {
     "name": "stdout",
     "output_type": "stream",
     "text": [
      "no_show\n",
      "no     15.013396\n",
      "yes    17.218627\n",
      "Name: wait_time, dtype: float64\n"
     ]
    },
    {
     "data": {
      "text/plain": [
       "(array([0, 1]), [Text(0, 0, 'no'), Text(1, 0, 'yes')])"
      ]
     },
     "execution_count": 363,
     "metadata": {},
     "output_type": "execute_result"
    },
    {
     "data": {
      "image/png": "[encoded data removed]",
      "text/plain": [
       "<Figure size 432x288 with 1 Axes>"
      ]
     },
     "metadata": {
      "needs_background": "light"
     },
     "output_type": "display_data"
    }
   ],
   "source": [
    "mean_wait_time = df.groupby('no_show')['wait_time'].mean()\n",
    "print(mean_wait_time)\n",
    "mean_wait_time.plot(kind='bar', title='Mean waiting time for patients showing up (No) and missing their appointment (Yes)', color=['green', 'red']);\n",
    "plt.xlabel(\"No-show\");\n",
    "plt.ylabel('Mean waiting time');\n",
    "plt.xticks(rotation=0)\n",
    "\n",
    "#Plotting mean wait time for patients who aren't a no-show and who are a no-show. \n",
    "#Green is a positive colour so this was given to people who showed up \n",
    "#Red was given to people who missed their appointment"
   ]
  },
  {
   "cell_type": "markdown",
   "metadata": {},
   "source": [
    ">It shows that the mean waiting time for no-shows are higher. So a higher waiting time between appointments can cause more no-shows."
   ]
  },
  {
   "cell_type": "code",
   "execution_count": 370,
   "metadata": {},
   "outputs": [
    {
     "name": "stdout",
     "output_type": "stream",
     "text": [
      "51435\n"
     ]
    }
   ],
   "source": [
    "total_no_no_show = df.query(\"no_show == 'no'\")[\"wait_time\"].count()\n",
    "print(total_no_no_show)\n",
    "\n",
    "#Total of attended patients"
   ]
  },
  {
   "cell_type": "code",
   "execution_count": 365,
   "metadata": {},
   "outputs": [
    {
     "name": "stdout",
     "output_type": "stream",
     "text": [
      "71954\n"
     ]
    }
   ],
   "source": [
    "total_no_show = df[\"no_show\"].count()\n",
    "print(total_no_show)\n",
    "\n",
    "#total patients"
   ]
  },
  {
   "cell_type": "code",
   "execution_count": 371,
   "metadata": {},
   "outputs": [
    {
     "name": "stdout",
     "output_type": "stream",
     "text": [
      "20519\n"
     ]
    }
   ],
   "source": [
    "total_yes_no_show = df.query(\"no_show == 'yes'\")[\"wait_time\"].count()\n",
    "print(total_yes_no_show)\n",
    "\n",
    "#total no-show patients"
   ]
  },
  {
   "cell_type": "code",
   "execution_count": 375,
   "metadata": {},
   "outputs": [
    {
     "name": "stdout",
     "output_type": "stream",
     "text": [
      "71.48316980292965\n"
     ]
    }
   ],
   "source": [
    "percent_no_no_shows = (total_no_no_show/ total_no_show.sum()) * 100\n",
    "print(percent_no_no_shows)\n",
    "\n",
    "#Percentage of patients attended appointments "
   ]
  },
  {
   "cell_type": "code",
   "execution_count": 376,
   "metadata": {},
   "outputs": [
    {
     "name": "stdout",
     "output_type": "stream",
     "text": [
      "28.51683019707035\n"
     ]
    }
   ],
   "source": [
    "percent_yes_no_shows = (total_yes_no_show/ total_no_show.sum()) * 100\n",
    "print(percent_yes_no_shows)\n",
    "\n",
    "#percentage of no-show patients"
   ]
  },
  {
   "cell_type": "code",
   "execution_count": 374,
   "metadata": {},
   "outputs": [
    {
     "data": {
      "text/plain": [
       "Text(0.5, 1.0, 'Proportion of yes and no no-shows in database')"
      ]
     },
     "execution_count": 374,
     "metadata": {},
     "output_type": "execute_result"
    },
    {
     "data": {
      "image/png": "[encoded data removed]",
      "text/plain": [
       "<Figure size 432x432 with 1 Axes>"
      ]
     },
     "metadata": {},
     "output_type": "display_data"
    }
   ],
   "source": [
    "labels = 'Yes', 'No'\n",
    "sizes = [percent_no_no_shows, percent_yes_no_shows]\n",
    "plt.figure( figsize = (6,6))\n",
    "plt.pie(sizes, labels=labels, autopct='%.2f%%', startangle=90)\n",
    "plt.title(\"Proportion of yes and no no-shows in database\")\n",
    "\n",
    "#plotting pie for showing the percentage of patients who are a no-show and who attended appointments"
   ]
  },
  {
   "cell_type": "markdown",
   "metadata": {},
   "source": [
    "> This gives us a good idea of the proportion of no-shows we're working with in the database"
   ]
  },
  {
   "cell_type": "code",
   "execution_count": 394,
   "metadata": {},
   "outputs": [
    {
     "name": "stdout",
     "output_type": "stream",
     "text": [
      "14672\n"
     ]
    }
   ],
   "source": [
    "wait_time_0 = df.query(\"wait_time >= 0\" and \"wait_time <= 3\")\n",
    "total_0 = wait_time_0[\"no_show\"].count()\n",
    "print(total_0)\n",
    "\n",
    "#Filtering for 0 to 3 days of waiting time"
   ]
  },
  {
   "cell_type": "code",
   "execution_count": 395,
   "metadata": {},
   "outputs": [],
   "source": [
    "yes1 = (wait_time_0.query(\"no_show == 'yes'\")[\"wait_time\"].count()/total_no_show)\n",
    "no1 = (wait_time_0.query(\"no_show == 'no'\")[\"wait_time\"].count()/total_no_show)\n",
    "\n",
    "#The no-shows and patients attended filter to the waiting time"
   ]
  },
  {
   "cell_type": "code",
   "execution_count": 396,
   "metadata": {},
   "outputs": [
    {
     "name": "stdout",
     "output_type": "stream",
     "text": [
      "32182\n"
     ]
    }
   ],
   "source": [
    "wait_time_35 = df.query(\"wait_time => 4\" and \"wait_time <= 7\")\n",
    "total_35 = wait_time_35[\"no_show\"].count()\n",
    "print(total_35)\n",
    "\n",
    "#Filtering for 4 to 7 days of waiting time"
   ]
  },
  {
   "cell_type": "code",
   "execution_count": 397,
   "metadata": {},
   "outputs": [],
   "source": [
    "yes2 = (wait_time_35.query(\"no_show == 'yes'\")[\"wait_time\"].count()/total_no_show)\n",
    "no2 = (wait_time_35.query(\"no_show == 'no'\")[\"wait_time\"].count()/total_no_show)\n",
    "\n",
    "#The no-shows and patients attended filter to the waiting time"
   ]
  },
  {
   "cell_type": "code",
   "execution_count": 398,
   "metadata": {},
   "outputs": [
    {
     "name": "stdout",
     "output_type": "stream",
     "text": [
      "44207\n"
     ]
    }
   ],
   "source": [
    "wait_time_710 = df.query(\"wait_time => 8\" and \"wait_time <= 14\")\n",
    "total_710 = wait_time_710[\"no_show\"].count()\n",
    "print(total_710)\n",
    "\n",
    "#Filtering for 8 to 14 days of waiting time"
   ]
  },
  {
   "cell_type": "code",
   "execution_count": 399,
   "metadata": {},
   "outputs": [],
   "source": [
    "yes3 = (wait_time_710.query(\"no_show == 'yes'\")[\"wait_time\"].count()/total_no_show)\n",
    "no3 = (wait_time_710.query(\"no_show == 'no'\")[\"wait_time\"].count()/total_no_show)\n",
    "\n",
    "#The no-shows and patients attended filter to the waiting time"
   ]
  },
  {
   "cell_type": "code",
   "execution_count": 400,
   "metadata": {},
   "outputs": [
    {
     "data": {
      "image/png": "[encoded data removed]",
      "text/plain": [
       "<Figure size 432x288 with 1 Axes>"
      ]
     },
     "metadata": {},
     "output_type": "display_data"
    },
    {
     "data": {
      "image/png": "[encoded data removed]",
      "text/plain": [
       "<Figure size 432x288 with 1 Axes>"
      ]
     },
     "metadata": {},
     "output_type": "display_data"
    },
    {
     "data": {
      "image/png": "[encoded data removed]",
      "text/plain": [
       "<Figure size 432x288 with 1 Axes>"
      ]
     },
     "metadata": {},
     "output_type": "display_data"
    }
   ],
   "source": [
    "plt.figure(0)\n",
    "labels = 'Yes', 'No'\n",
    "sizes = [yes1, no1]\n",
    "plt.pie(sizes, labels=labels, autopct='%.2f%%', startangle=90)\n",
    "plt.title(\"Proportion of yes and no no-shows after 0 to 3 waiting days\");\n",
    "\n",
    "plt.figure(1)\n",
    "labels = 'Yes', 'No'\n",
    "sizes = [yes2, no2]\n",
    "plt.pie(sizes, labels=labels, autopct='%.2f%%', startangle=90)\n",
    "plt.title(\"Proportion of yes and no no-shows after 4 to 7 waiting days\");\n",
    "\n",
    "plt.figure(2)\n",
    "labels = 'Yes', 'No'\n",
    "sizes = [yes3, no3]\n",
    "plt.pie(sizes, labels=labels, autopct='%.2f%%', startangle=90)\n",
    "plt.title(\"Proportion of yes and no no-shows after 8 to 14 waiting days\");\n",
    "\n",
    "plt.show()\n",
    "\n",
    "#plotting all 3 pie charts in the same figure so comparisons can be made"
   ]
  },
  {
   "cell_type": "markdown",
   "metadata": {},
   "source": [
    ">This is an interesting find. You can see the percentage of no-shows go up as the waiting time increases. Does waiting time affect no-shows? From the data we have and the analysis we ran, yes. However, further studies with probability testing need to be considered. "
   ]
  },
  {
   "cell_type": "markdown",
   "metadata": {},
   "source": [
    "<a id='sms'></a>\n",
    "### Does sending an SMS decrease no-show?\n",
    "\n",
    "> According to a study by <a href=https://bmcophthalmol.biomedcentral.com/articles/10.1186/1471-2415-8-9sending/>Koshy, E. et. al. (2008)</a>, SMS's prior to the appointment, decreases no-shows by almost 38%. Does this occur in this data as well?"
   ]
  },
  {
   "cell_type": "code",
   "execution_count": 413,
   "metadata": {},
   "outputs": [
    {
     "name": "stdout",
     "output_type": "stream",
     "text": [
      "35481\n"
     ]
    }
   ],
   "source": [
    "yes_sms = df.query(\"sms_received == 1\")[\"sms_received\"].count()\n",
    "print(yes_sms)\n",
    "\n",
    "#counting how many patients recieved sms"
   ]
  },
  {
   "cell_type": "code",
   "execution_count": 414,
   "metadata": {},
   "outputs": [],
   "source": [
    "no_sms = df.query(\"sms_received == 0\")[\"sms_received\"].count()\n",
    "\n",
    "#counting how many patients who did not recieve an sms"
   ]
  },
  {
   "cell_type": "code",
   "execution_count": 427,
   "metadata": {},
   "outputs": [
    {
     "data": {
      "image/png": "[encoded data removed]",
      "text/plain": [
       "<Figure size 432x288 with 1 Axes>"
      ]
     },
     "metadata": {},
     "output_type": "display_data"
    }
   ],
   "source": [
    "labels = 'Yes', 'No'\n",
    "sizes = [yes_sms, no_sms]\n",
    "color = ['orange','y']\n",
    "plt.pie(sizes, labels=labels, autopct='%.2f%%', startangle=90, wedgeprops = { 'linewidth' : 3, 'edgecolor' : 'white' }, colors = color)\n",
    "plt.title(\"Percentage of people who have received an SMS and those who didn't\");\n",
    "\n",
    "#plotting pie of percentage of people who recieved an SMS and those who didn't"
   ]
  },
  {
   "cell_type": "markdown",
   "metadata": {},
   "source": [
    ">Almost half of the patients received an SMS, yet no-shows proportion was high."
   ]
  },
  {
   "cell_type": "code",
   "execution_count": 460,
   "metadata": {
    "scrolled": true
   },
   "outputs": [
    {
     "data": {
      "image/png": "[encoded data removed]",
      "text/plain": [
       "<Figure size 432x288 with 1 Axes>"
      ]
     },
     "metadata": {
      "needs_background": "light"
     },
     "output_type": "display_data"
    }
   ],
   "source": [
    "ax = sns.countplot(x=df.sms_received, hue=df.no_show, palette=[\"#fc9272\", \"#7fcdbb\"])\n",
    "ax.set_title(\"The number of patients who have received/didn't receive an SMS\")\n",
    "x_ticks_labels=['No SMS', 'Received SMS']\n",
    "ax.set_xticklabels(x_ticks_labels)\n",
    "for i in ax.containers:\n",
    "    ax.bar_label(i,)\n",
    "#code for setting values\n",
    "\n",
    "plt.legend(title='No-shows', loc='upper right', labels=['Attended', 'No-show'])\n",
    "plt.show()\n",
    "\n",
    "#plotting noshows vs sms received"
   ]
  },
  {
   "cell_type": "markdown",
   "metadata": {},
   "source": [
    ">Even though patients who received and didn't receive an sms was almost the 50% each (previous figure). The number of no-shows are also almost the same. "
   ]
  },
  {
   "cell_type": "code",
   "execution_count": 435,
   "metadata": {},
   "outputs": [
    {
     "name": "stdout",
     "output_type": "stream",
     "text": [
      "sms_received\n",
      "0    0.705673\n",
      "1    0.724247\n",
      "dtype: float64\n",
      "sms_received\n",
      "0    0.294327\n",
      "1    0.275753\n",
      "dtype: float64\n"
     ]
    }
   ],
   "source": [
    "prop = df[df.no_show == 'no'].groupby(['sms_received']).size()/df.groupby(['sms_received']).size()\n",
    "print(prop)\n",
    "prop2 = df[df.no_show == 'yes'].groupby(['sms_received']).size()/df.groupby(['sms_received']).size()\n",
    "print(prop2)\n",
    "\n",
    "#getting proportions of yes and no for no_show"
   ]
  },
  {
   "cell_type": "code",
   "execution_count": 464,
   "metadata": {},
   "outputs": [
    {
     "data": {
      "image/png": "[encoded data removed]",
      "text/plain": [
       "<Figure size 432x288 with 1 Axes>"
      ]
     },
     "metadata": {
      "needs_background": "light"
     },
     "output_type": "display_data"
    }
   ],
   "source": [
    "labels = ['sms recieved', 'no sms']\n",
    "\n",
    "x = np.arange(len(labels))  # the label locations\n",
    "width = 0.35  # the width of the bars\n",
    "\n",
    "fig, ax = plt.subplots()\n",
    "bar1 = ax.bar(x - width/2, prop, width, label='Attended', color = 'm')\n",
    "bar2 = ax.bar(x + width/2, prop2, width, label='No show')\n",
    "\n",
    "\n",
    "ax.set_ylabel('Percentage')\n",
    "ax.set_title('Percentage of patients who attended and the no-shows based on sms received or not')\n",
    "ax.set_xticks(x, labels)\n",
    "ax.legend(loc= \"upper right\")\n",
    "\n",
    "ax.bar_label(bar1)\n",
    "ax.bar_label(bar2)\n",
    "\n",
    "plt.show()\n",
    "\n",
    "#plotting the proportions"
   ]
  },
  {
   "cell_type": "markdown",
   "metadata": {},
   "source": [
    ">Looking at proportions rather than values, we can clearly state now that there has been no significant difference in a decrease in no-shows with an sms reminder. There was actually a slight increase in no-shows with those who received an SMS"
   ]
  },
  {
   "cell_type": "markdown",
   "metadata": {},
   "source": [
    "<a id='age'></a>\n",
    "### What age group has more no-shows?\n",
    "\n",
    ">The ages will be grouped and analysed. Does a particular age group tend to miss appointments more? Does ages under 18 have low no-shows because parents are worried about their kids health? "
   ]
  },
  {
   "cell_type": "code",
   "execution_count": 465,
   "metadata": {},
   "outputs": [
    {
     "data": {
      "text/plain": [
       "count    71954.000000\n",
       "mean        38.497429\n",
       "std         22.917899\n",
       "min          0.000000\n",
       "25%         19.000000\n",
       "50%         39.000000\n",
       "75%         57.000000\n",
       "max        100.000000\n",
       "Name: age, dtype: float64"
      ]
     },
     "execution_count": 465,
     "metadata": {},
     "output_type": "execute_result"
    }
   ],
   "source": [
    "df[\"age\"].describe()\n",
    "\n",
    "#getting the general understanding of this age column. \n",
    "#max age is 100 and min age is 0 as per our filtering"
   ]
  },
  {
   "cell_type": "code",
   "execution_count": 466,
   "metadata": {},
   "outputs": [
    {
     "data": {
      "image/png": "[encoded data removed]",
      "text/plain": [
       "<Figure size 432x288 with 1 Axes>"
      ]
     },
     "metadata": {
      "needs_background": "light"
     },
     "output_type": "display_data"
    }
   ],
   "source": [
    "df[\"age\"].hist();\n",
    "\n",
    "#Looking at the distribution, right-skewed. "
   ]
  },
  {
   "cell_type": "code",
   "execution_count": 467,
   "metadata": {},
   "outputs": [
    {
     "data": {
      "text/plain": [
       "71954"
      ]
     },
     "execution_count": 467,
     "metadata": {},
     "output_type": "execute_result"
    }
   ],
   "source": [
    "df['age_group'] = pd.qcut(df['age'], q=5, labels=['0 to 18', '19 to 35', '36 to 55', '56 to 75', '76 to 100'])\n",
    "df['age_group'].count()\n",
    "\n",
    "#creating bins for the ages, qcut cuts the data automatically based on q (how many bins you want)."
   ]
  },
  {
   "cell_type": "code",
   "execution_count": 468,
   "metadata": {},
   "outputs": [
    {
     "name": "stdout",
     "output_type": "stream",
     "text": [
      "age_group\n",
      "0 to 18      14431\n",
      "19 to 35     14478\n",
      "36 to 55     15200\n",
      "56 to 75     14005\n",
      "76 to 100    13840\n",
      "Name: no_show, dtype: int64\n"
     ]
    }
   ],
   "source": [
    "age_group_totals = df.groupby('age_group').count()['no_show']\n",
    "print(age_group_totals)\n",
    "\n",
    "#checking the bins and amounts"
   ]
  },
  {
   "cell_type": "code",
   "execution_count": 469,
   "metadata": {},
   "outputs": [
    {
     "name": "stdout",
     "output_type": "stream",
     "text": [
      "no_show  age_group\n",
      "no       0 to 18       9835\n",
      "         19 to 35      9388\n",
      "         36 to 55     10561\n",
      "         56 to 75     10641\n",
      "         76 to 100    11010\n",
      "yes      0 to 18       4596\n",
      "         19 to 35      5090\n",
      "         36 to 55      4639\n",
      "         56 to 75      3364\n",
      "         76 to 100     2830\n",
      "Name: age_group, dtype: int64\n"
     ]
    }
   ],
   "source": [
    "age_no_show_counts = df.groupby(['no_show','age_group'])['age_group'].size()\n",
    "print(age_no_show_counts)\n",
    "\n",
    "#total in each age bin\n",
    "#using size(), gets size of bin, same as using count() but for groups"
   ]
  },
  {
   "cell_type": "code",
   "execution_count": 470,
   "metadata": {},
   "outputs": [
    {
     "name": "stdout",
     "output_type": "stream",
     "text": [
      "no_show\n",
      "no     51435\n",
      "yes    20519\n",
      "Name: age_group, dtype: int64\n"
     ]
    }
   ],
   "source": [
    "total_no_shows = df.groupby('no_show').count()['age_group']\n",
    "print(total_no_shows)\n",
    "\n",
    "#total patients that attend and dont show"
   ]
  },
  {
   "cell_type": "code",
   "execution_count": 471,
   "metadata": {},
   "outputs": [
    {
     "name": "stdout",
     "output_type": "stream",
     "text": [
      "no_show  age_group\n",
      "no       0 to 18       9835\n",
      "         19 to 35      9388\n",
      "         36 to 55     10561\n",
      "         56 to 75     10641\n",
      "         76 to 100    11010\n",
      "yes      0 to 18       4596\n",
      "         19 to 35      5090\n",
      "         36 to 55      4639\n",
      "         56 to 75      3364\n",
      "         76 to 100     2830\n",
      "Name: age_group, dtype: int64\n"
     ]
    }
   ],
   "source": [
    "age_no_show_total = df.groupby(['no_show','age_group'])['age_group'].size()\n",
    "print(age_no_show_total) \n",
    "\n",
    "#total patients in bins"
   ]
  },
  {
   "cell_type": "code",
   "execution_count": 472,
   "metadata": {},
   "outputs": [
    {
     "name": "stdout",
     "output_type": "stream",
     "text": [
      "age_group\n",
      "0 to 18      0.191212\n",
      "19 to 35     0.182522\n",
      "36 to 55     0.205327\n",
      "56 to 75     0.206882\n",
      "76 to 100    0.214057\n",
      "Name: age_group, dtype: float64\n",
      "age_group\n",
      "0 to 18      0.223988\n",
      "19 to 35     0.248063\n",
      "36 to 55     0.226083\n",
      "56 to 75     0.163946\n",
      "76 to 100    0.137921\n",
      "Name: age_group, dtype: float64\n"
     ]
    }
   ],
   "source": [
    "age_no_ns_prop = age_no_show_counts['no'] / total_no_shows['no']\n",
    "age_yes_ns_prop = age_no_show_counts['yes'] / total_no_shows['yes']\n",
    "\n",
    "print(age_no_ns_prop)\n",
    "print(age_yes_ns_prop)\n",
    "\n",
    "#getting proportions of each bin"
   ]
  },
  {
   "cell_type": "code",
   "execution_count": 473,
   "metadata": {},
   "outputs": [
    {
     "data": {
      "image/png": "[encoded data removed]",
      "text/plain": [
       "<Figure size 1080x504 with 1 Axes>"
      ]
     },
     "metadata": {
      "needs_background": "light"
     },
     "output_type": "display_data"
    }
   ],
   "source": [
    "labels =['0 to 18', '19 to 35', '36 to 55', '56 to 75', '76 to 100']\n",
    "\n",
    "x = np.arange(len(labels))  # the label locations\n",
    "width = 0.35  # the width of the bars\n",
    "\n",
    "fig, ax = plt.subplots(figsize=[15,7])\n",
    "bar1 = ax.bar(x - width/2, age_no_ns_prop, width, label='Attended', color = 'gray')\n",
    "bar2 = ax.bar(x + width/2, age_yes_ns_prop, width, label='No show', color = 'm')\n",
    "\n",
    "# Add some text for labels, title and custom x-axis tick labels, etc.\n",
    "ax.set_ylabel('Percentage')\n",
    "ax.set_xlabel('Age Groups')\n",
    "ax.set_title('Percentage of patients age group and whether they are a no-show')\n",
    "ax.set_xticks(x, labels)\n",
    "ax.legend()\n",
    "\n",
    "ax.bar_label(bar1)\n",
    "ax.bar_label(bar2)\n",
    "\n",
    "plt.show();\n",
    "\n",
    "#PLotting proportion graph of the age groups"
   ]
  },
  {
   "cell_type": "markdown",
   "metadata": {},
   "source": [
    ">Interestingly,we can see that no-shows are high for the first 3 age groups. The age group (0 to 18) was high because it could be that parents were too busy to take their child or the child didn't need to see a doctor anymore. No-show patients are the highest for the young adults (19 to 35), there are many factors here that we do not know of as transport issues, work issues etc. Young adults also don't care about their health as much as older adults; this can be seen from ages 56 to 100, as patients attended is higher."
   ]
  },
  {
   "cell_type": "markdown",
   "metadata": {},
   "source": [
    "<a id='day'></a>\n",
    "### 4. Which day has the most no-shows?\n",
    "\n",
    ">Does one day of the week experience more no-shows than other days? "
   ]
  },
  {
   "cell_type": "code",
   "execution_count": 474,
   "metadata": {},
   "outputs": [
    {
     "data": {
      "text/html": [
       "<div>\n",
       "<style scoped>\n",
       "    .dataframe tbody tr th:only-of-type {\n",
       "        vertical-align: middle;\n",
       "    }\n",
       "\n",
       "    .dataframe tbody tr th {\n",
       "        vertical-align: top;\n",
       "    }\n",
       "\n",
       "    .dataframe thead th {\n",
       "        text-align: right;\n",
       "    }\n",
       "</style>\n",
       "<table border=\"1\" class=\"dataframe\">\n",
       "  <thead>\n",
       "    <tr style=\"text-align: right;\">\n",
       "      <th></th>\n",
       "      <th>patient_id</th>\n",
       "      <th>appointment_id</th>\n",
       "      <th>gender</th>\n",
       "      <th>scheduled_day</th>\n",
       "      <th>appointment_day</th>\n",
       "      <th>age</th>\n",
       "      <th>neighbourhood</th>\n",
       "      <th>scholarship</th>\n",
       "      <th>hypertension</th>\n",
       "      <th>diabetes</th>\n",
       "      <th>alcoholism</th>\n",
       "      <th>disability</th>\n",
       "      <th>sms_received</th>\n",
       "      <th>no_show</th>\n",
       "      <th>day_of_week</th>\n",
       "      <th>waiting_time</th>\n",
       "      <th>wait_time</th>\n",
       "      <th>age_group</th>\n",
       "    </tr>\n",
       "  </thead>\n",
       "  <tbody>\n",
       "    <tr>\n",
       "      <th>5</th>\n",
       "      <td>9.598513e+13</td>\n",
       "      <td>5626772</td>\n",
       "      <td>F</td>\n",
       "      <td>2016-04-27 00:00:00+00:00</td>\n",
       "      <td>2016-04-29 00:00:00+00:00</td>\n",
       "      <td>76</td>\n",
       "      <td>REPÚBLICA</td>\n",
       "      <td>0</td>\n",
       "      <td>1</td>\n",
       "      <td>0</td>\n",
       "      <td>0</td>\n",
       "      <td>0</td>\n",
       "      <td>0</td>\n",
       "      <td>no</td>\n",
       "      <td>Friday</td>\n",
       "      <td>2 days</td>\n",
       "      <td>2</td>\n",
       "      <td>76 to 100</td>\n",
       "    </tr>\n",
       "    <tr>\n",
       "      <th>6</th>\n",
       "      <td>7.336882e+14</td>\n",
       "      <td>5630279</td>\n",
       "      <td>F</td>\n",
       "      <td>2016-04-27 00:00:00+00:00</td>\n",
       "      <td>2016-04-29 00:00:00+00:00</td>\n",
       "      <td>23</td>\n",
       "      <td>GOIABEIRAS</td>\n",
       "      <td>0</td>\n",
       "      <td>0</td>\n",
       "      <td>0</td>\n",
       "      <td>0</td>\n",
       "      <td>0</td>\n",
       "      <td>0</td>\n",
       "      <td>yes</td>\n",
       "      <td>Friday</td>\n",
       "      <td>2 days</td>\n",
       "      <td>2</td>\n",
       "      <td>19 to 35</td>\n",
       "    </tr>\n",
       "    <tr>\n",
       "      <th>7</th>\n",
       "      <td>3.449833e+12</td>\n",
       "      <td>5630575</td>\n",
       "      <td>F</td>\n",
       "      <td>2016-04-27 00:00:00+00:00</td>\n",
       "      <td>2016-04-29 00:00:00+00:00</td>\n",
       "      <td>39</td>\n",
       "      <td>GOIABEIRAS</td>\n",
       "      <td>0</td>\n",
       "      <td>0</td>\n",
       "      <td>0</td>\n",
       "      <td>0</td>\n",
       "      <td>0</td>\n",
       "      <td>0</td>\n",
       "      <td>yes</td>\n",
       "      <td>Friday</td>\n",
       "      <td>2 days</td>\n",
       "      <td>2</td>\n",
       "      <td>36 to 55</td>\n",
       "    </tr>\n",
       "    <tr>\n",
       "      <th>9</th>\n",
       "      <td>7.812456e+13</td>\n",
       "      <td>5629123</td>\n",
       "      <td>F</td>\n",
       "      <td>2016-04-27 00:00:00+00:00</td>\n",
       "      <td>2016-04-29 00:00:00+00:00</td>\n",
       "      <td>19</td>\n",
       "      <td>CONQUISTA</td>\n",
       "      <td>0</td>\n",
       "      <td>0</td>\n",
       "      <td>0</td>\n",
       "      <td>0</td>\n",
       "      <td>0</td>\n",
       "      <td>0</td>\n",
       "      <td>no</td>\n",
       "      <td>Friday</td>\n",
       "      <td>2 days</td>\n",
       "      <td>2</td>\n",
       "      <td>19 to 35</td>\n",
       "    </tr>\n",
       "    <tr>\n",
       "      <th>10</th>\n",
       "      <td>7.345362e+14</td>\n",
       "      <td>5630213</td>\n",
       "      <td>F</td>\n",
       "      <td>2016-04-27 00:00:00+00:00</td>\n",
       "      <td>2016-04-29 00:00:00+00:00</td>\n",
       "      <td>30</td>\n",
       "      <td>NOVA PALESTINA</td>\n",
       "      <td>0</td>\n",
       "      <td>0</td>\n",
       "      <td>0</td>\n",
       "      <td>0</td>\n",
       "      <td>0</td>\n",
       "      <td>0</td>\n",
       "      <td>no</td>\n",
       "      <td>Friday</td>\n",
       "      <td>2 days</td>\n",
       "      <td>2</td>\n",
       "      <td>19 to 35</td>\n",
       "    </tr>\n",
       "  </tbody>\n",
       "</table>\n",
       "</div>"
      ],
      "text/plain": [
       "      patient_id  appointment_id gender             scheduled_day  \\\n",
       "5   9.598513e+13         5626772      F 2016-04-27 00:00:00+00:00   \n",
       "6   7.336882e+14         5630279      F 2016-04-27 00:00:00+00:00   \n",
       "7   3.449833e+12         5630575      F 2016-04-27 00:00:00+00:00   \n",
       "9   7.812456e+13         5629123      F 2016-04-27 00:00:00+00:00   \n",
       "10  7.345362e+14         5630213      F 2016-04-27 00:00:00+00:00   \n",
       "\n",
       "             appointment_day  age   neighbourhood  scholarship  hypertension  \\\n",
       "5  2016-04-29 00:00:00+00:00   76       REPÚBLICA            0             1   \n",
       "6  2016-04-29 00:00:00+00:00   23      GOIABEIRAS            0             0   \n",
       "7  2016-04-29 00:00:00+00:00   39      GOIABEIRAS            0             0   \n",
       "9  2016-04-29 00:00:00+00:00   19       CONQUISTA            0             0   \n",
       "10 2016-04-29 00:00:00+00:00   30  NOVA PALESTINA            0             0   \n",
       "\n",
       "    diabetes  alcoholism  disability  sms_received no_show day_of_week  \\\n",
       "5          0           0           0             0      no      Friday   \n",
       "6          0           0           0             0     yes      Friday   \n",
       "7          0           0           0             0     yes      Friday   \n",
       "9          0           0           0             0      no      Friday   \n",
       "10         0           0           0             0      no      Friday   \n",
       "\n",
       "   waiting_time  wait_time  age_group  \n",
       "5        2 days          2  76 to 100  \n",
       "6        2 days          2   19 to 35  \n",
       "7        2 days          2   36 to 55  \n",
       "9        2 days          2   19 to 35  \n",
       "10       2 days          2   19 to 35  "
      ]
     },
     "execution_count": 474,
     "metadata": {},
     "output_type": "execute_result"
    }
   ],
   "source": [
    "df.head()\n",
    "\n",
    "#checking data"
   ]
  },
  {
   "cell_type": "code",
   "execution_count": 475,
   "metadata": {},
   "outputs": [
    {
     "name": "stdout",
     "output_type": "stream",
     "text": [
      "day_of_week\n",
      "Friday       12515\n",
      "Monday       14580\n",
      "Saturday        31\n",
      "Thursday     11322\n",
      "Tuesday      16462\n",
      "Wednesday    17044\n",
      "Name: no_show, dtype: int64\n"
     ]
    }
   ],
   "source": [
    "print(df.groupby('day_of_week')['no_show'].size())\n",
    "\n",
    "#Looking at counts for the days"
   ]
  },
  {
   "cell_type": "code",
   "execution_count": 478,
   "metadata": {},
   "outputs": [],
   "source": [
    "df['day_of_week'] = pd.Categorical(df['day_of_week'], categories= \n",
    "    ['Monday','Tuesday','Wednesday','Thursday','Friday','Saturday', 'Sunday'],\n",
    "    ordered=True)\n",
    "\n",
    "#The days are out of order and would appear like that on a graph (i tried) so it needs to be ordered."
   ]
  },
  {
   "cell_type": "code",
   "execution_count": 479,
   "metadata": {},
   "outputs": [
    {
     "data": {
      "image/png": "[encoded data removed]",
      "text/plain": [
       "<Figure size 1440x360 with 1 Axes>"
      ]
     },
     "metadata": {
      "needs_background": "light"
     },
     "output_type": "display_data"
    }
   ],
   "source": [
    "plt.figure(figsize=(20,5))\n",
    "ax = sns.countplot(x=df.day_of_week)\n",
    "ax.set_ylabel('Count')\n",
    "ax.set_title('Values of appointments for each day of the week')\n",
    "ax.set_xlabel('Days of the week')\n",
    "ax.bar_label(ax.containers[0])\n",
    "plt.show()\n",
    "\n",
    "#plotting the values in a graph to get a visualisation"
   ]
  },
  {
   "cell_type": "markdown",
   "metadata": {},
   "source": [
    ">First thing, Sunday is missing. I would assume like South Africa, this is the day doctors clinics, medical centers etc. are closed for a break. Brazil is also a majority Catholic state, on sundays its the lords day, this could be a reason as well. Again, in South Africa, Saturdays are usually a short or half day for medical practices; this could explain saturday as well. \n",
    ">\n",
    ">Wednesday has the most patients and Thursday the least. "
   ]
  },
  {
   "cell_type": "code",
   "execution_count": 482,
   "metadata": {},
   "outputs": [
    {
     "data": {
      "image/png": "[encoded data removed]",
      "text/plain": [
       "<Figure size 1440x360 with 1 Axes>"
      ]
     },
     "metadata": {
      "needs_background": "light"
     },
     "output_type": "display_data"
    }
   ],
   "source": [
    "plt.figure(figsize=(20,5))\n",
    "ax = sns.countplot(x=df.day_of_week, hue=df.no_show, palette=\"Set2\")\n",
    "ax.set_ylabel('Count')\n",
    "ax.set_title('The patients who attended and the no-shows for the week')\n",
    "for container in ax.containers:\n",
    "    ax.bar_label(container)\n",
    "plt.legend(title='No-Show', loc='upper right', labels=['Attended', 'No-show'])\n",
    "plt.show()\n",
    "\n",
    "#filtering the patients into no-shows and attended"
   ]
  },
  {
   "cell_type": "markdown",
   "metadata": {},
   "source": [
    ">Even though Wednesday has the highest amount of patients, Tuesday has no shows. \n",
    ">\n",
    ">Thursday that had the least amount of patients, has the lowest no-shows (excluding Saturday)."
   ]
  },
  {
   "cell_type": "code",
   "execution_count": 483,
   "metadata": {},
   "outputs": [
    {
     "name": "stdout",
     "output_type": "stream",
     "text": [
      "day_of_week\n",
      "Monday       14580\n",
      "Tuesday      16462\n",
      "Wednesday    17044\n",
      "Thursday     11322\n",
      "Friday       12515\n",
      "Saturday        31\n",
      "Sunday           0\n",
      "Name: no_show, dtype: int64\n"
     ]
    }
   ],
   "source": [
    "week_day_totals = df.groupby('day_of_week').count()['no_show']\n",
    "print(week_day_totals)\n",
    "\n",
    "#totals for days"
   ]
  },
  {
   "cell_type": "code",
   "execution_count": 484,
   "metadata": {},
   "outputs": [
    {
     "name": "stdout",
     "output_type": "stream",
     "text": [
      "no_show  day_of_week\n",
      "no       Monday         0.697942\n",
      "         Tuesday        0.713340\n",
      "         Wednesday      0.728526\n",
      "         Thursday       0.727433\n",
      "         Friday         0.706432\n",
      "         Saturday       0.709677\n",
      "         Sunday              NaN\n",
      "yes      Monday         0.302058\n",
      "         Tuesday        0.286660\n",
      "         Wednesday      0.271474\n",
      "         Thursday       0.272567\n",
      "         Friday         0.293568\n",
      "         Saturday       0.290323\n",
      "         Sunday              NaN\n",
      "dtype: float64\n"
     ]
    }
   ],
   "source": [
    "day_ns_counts = df.groupby(['no_show','day_of_week'])['day_of_week'].size()/week_day_totals\n",
    "print(day_ns_counts)\n",
    "\n",
    "#proportions for the days"
   ]
  },
  {
   "cell_type": "code",
   "execution_count": 487,
   "metadata": {},
   "outputs": [
    {
     "name": "stdout",
     "output_type": "stream",
     "text": [
      "day_of_week\n",
      "Monday       0.697942\n",
      "Tuesday      0.713340\n",
      "Wednesday    0.728526\n",
      "Thursday     0.727433\n",
      "Friday       0.706432\n",
      "Saturday     0.709677\n",
      "Sunday            NaN\n",
      "dtype: float64\n"
     ]
    }
   ],
   "source": [
    "no_prop = df[df.no_show == 'no'].groupby(['day_of_week']).size()/df.groupby(['day_of_week']).size()\n",
    "print(no_prop)\n",
    "\n",
    "#just separating it so i can plot it. I couldn't figure out how to plot 2 bars from 1 variable."
   ]
  },
  {
   "cell_type": "code",
   "execution_count": 488,
   "metadata": {},
   "outputs": [
    {
     "name": "stdout",
     "output_type": "stream",
     "text": [
      "day_of_week\n",
      "Monday       0.302058\n",
      "Tuesday      0.286660\n",
      "Wednesday    0.271474\n",
      "Thursday     0.272567\n",
      "Friday       0.293568\n",
      "Saturday     0.290323\n",
      "Sunday            NaN\n",
      "dtype: float64\n"
     ]
    }
   ],
   "source": [
    "yes_prop = df[df.no_show == 'yes'].groupby(['day_of_week']).size()/df.groupby(['day_of_week']).size()\n",
    "print(yes_prop)\n",
    "\n",
    "#separating"
   ]
  },
  {
   "cell_type": "code",
   "execution_count": 490,
   "metadata": {},
   "outputs": [
    {
     "data": {
      "image/png": "[encoded data removed]",
      "text/plain": [
       "<Figure size 1080x360 with 1 Axes>"
      ]
     },
     "metadata": {
      "needs_background": "light"
     },
     "output_type": "display_data"
    }
   ],
   "source": [
    "labels =['Monday', 'Tuesday', 'Wednesday', 'Thursday', 'Friday', 'Saturday', 'Sunday']\n",
    "\n",
    "x = np.arange(len(labels))  # the label locations\n",
    "width = 0.35  # the width of the bars\n",
    "\n",
    "fig, ax = plt.subplots(figsize = [15,5])\n",
    "bar1 = ax.bar(x - width/2, no_prop, width, label='Attended', color = 'pink')\n",
    "bar2 = ax.bar(x + width/2, yes_prop, width, label='No show', color = 'purple')\n",
    "\n",
    "# Add some text for labels, title and custom x-axis tick labels, etc.\n",
    "ax.set_ylabel('Percentage')\n",
    "ax.set_title('Percentage of patients who attended and the no-shows based the appointment days')\n",
    "ax.set_xticks(x, labels)\n",
    "ax.legend()\n",
    "\n",
    "ax.bar_label(bar1)\n",
    "ax.bar_label(bar2)\n",
    "\n",
    "plt.show()\n",
    "\n",
    "#plotting the proportions of the days graph"
   ]
  },
  {
   "cell_type": "markdown",
   "metadata": {},
   "source": [
    ">Proportion wise, there are no signficant differences between the days. Wednesday has the lowest no-shows while Monday has the highest. So a patient is more likely to miss an appointment if its on a Monday. "
   ]
  },
  {
   "cell_type": "markdown",
   "metadata": {},
   "source": [
    "<a id='disability'></a>\n",
    "### 5. Does an increase in disabilities increase the chances of them being a no-show?\n",
    "\n",
    ">Disabilities were given to patients from a range of 0 to 4. 0 being no disabilities, 1 being 1 disability, 2 being 2 disabilities etc. The question here tries to investigate if have a higher disability score, increases the chances of a patient being a no-show. "
   ]
  },
  {
   "cell_type": "code",
   "execution_count": 491,
   "metadata": {},
   "outputs": [
    {
     "data": {
      "text/plain": [
       "<AxesSubplot:xlabel='age', ylabel='disability'>"
      ]
     },
     "execution_count": 491,
     "metadata": {},
     "output_type": "execute_result"
    },
    {
     "data": {
      "image/png": "[encoded data removed]",
      "text/plain": [
       "<Figure size 432x288 with 1 Axes>"
      ]
     },
     "metadata": {
      "needs_background": "light"
     },
     "output_type": "display_data"
    }
   ],
   "source": [
    "df.plot.scatter(x = 'age', y = 'disability')\n",
    "\n",
    "#basic plot, im trying to see whats the distribution amongst the ages. "
   ]
  },
  {
   "cell_type": "code",
   "execution_count": 492,
   "metadata": {},
   "outputs": [
    {
     "data": {
      "text/plain": [
       "<AxesSubplot:>"
      ]
     },
     "execution_count": 492,
     "metadata": {},
     "output_type": "execute_result"
    },
    {
     "data": {
      "image/png": "[encoded data removed]",
      "text/plain": [
       "<Figure size 432x288 with 1 Axes>"
      ]
     },
     "metadata": {
      "needs_background": "light"
     },
     "output_type": "display_data"
    }
   ],
   "source": [
    "df['disability'].hist()\n",
    "\n",
    "#just to see what this shows"
   ]
  },
  {
   "cell_type": "markdown",
   "metadata": {},
   "source": [
    ">Since zero disabilities dwarf the other catergories, a proportion graph is needed to get a proper comparison."
   ]
  },
  {
   "cell_type": "code",
   "execution_count": 498,
   "metadata": {},
   "outputs": [
    {
     "name": "stdout",
     "output_type": "stream",
     "text": [
      "disability\n",
      "0    70650\n",
      "1     1182\n",
      "2      112\n",
      "3        8\n",
      "4        2\n",
      "dtype: int64\n"
     ]
    }
   ],
   "source": [
    "dis_total = df.groupby(['disability']).size()\n",
    "print(dis_prop)\n",
    "\n",
    "#total for disability catergories"
   ]
  },
  {
   "cell_type": "code",
   "execution_count": 499,
   "metadata": {},
   "outputs": [
    {
     "name": "stdout",
     "output_type": "stream",
     "text": [
      "disability\n",
      "0    0.714253\n",
      "1    0.751269\n",
      "2    0.696429\n",
      "3    0.750000\n",
      "4    0.500000\n",
      "dtype: float64\n"
     ]
    }
   ],
   "source": [
    "no_prop = df[df.no_show == 'no'].groupby(['disability']).size()/df.groupby(['disability']).size()\n",
    "print(no_prop)\n",
    "\n",
    "#proportion for attended for disabilities"
   ]
  },
  {
   "cell_type": "code",
   "execution_count": 500,
   "metadata": {},
   "outputs": [
    {
     "name": "stdout",
     "output_type": "stream",
     "text": [
      "disability\n",
      "0    0.714253\n",
      "1    0.751269\n",
      "2    0.696429\n",
      "3    0.750000\n",
      "4    0.500000\n",
      "dtype: float64\n"
     ]
    }
   ],
   "source": [
    "yes_prop = df[df.no_show == 'yes'].groupby(['disability']).size()/df.groupby(['disability']).size()\n",
    "print(no_prop)\n",
    "\n",
    "#proportion for no-show for disabilities"
   ]
  },
  {
   "cell_type": "code",
   "execution_count": 496,
   "metadata": {},
   "outputs": [
    {
     "data": {
      "image/png": "[encoded data removed]",
      "text/plain": [
       "<Figure size 1080x360 with 1 Axes>"
      ]
     },
     "metadata": {
      "needs_background": "light"
     },
     "output_type": "display_data"
    }
   ],
   "source": [
    "labels =['0', '1', '2', '3', '4']\n",
    "\n",
    "x = np.arange(len(labels))  # the label locations\n",
    "width = 0.35  # the width of the bars\n",
    "\n",
    "fig, ax = plt.subplots(figsize = [15,5])\n",
    "bar1 = ax.bar(x - width/2, no_prop, width, label='Attended', color = 'olive')\n",
    "bar2 = ax.bar(x + width/2, yes_prop, width, label='No show', color = 'orange')\n",
    "\n",
    "# Add some text for labels, title and custom x-axis tick labels, etc.\n",
    "ax.set_ylabel('Percentage')\n",
    "ax.set_title('Percentage of patients who attended and the no-shows based on their disability count')\n",
    "ax.set_xticks(x, labels)\n",
    "ax.legend()\n",
    "\n",
    "ax.bar_label(bar1)\n",
    "ax.bar_label(bar2)\n",
    "\n",
    "plt.show()\n",
    "\n",
    "#plotting proportion graph"
   ]
  },
  {
   "cell_type": "markdown",
   "metadata": {},
   "source": [
    ">The proportion of the 4 disabilities stand out the most. It's split 50/50 so if a person has 4 disabilities and they make an appointment, the chance of them being a no-show is 50%. \n",
    ">\n",
    ">A person with 1 disability has the highest attendence proportion, while a person with 1 has the lowest. \n",
    ">\n"
   ]
  },
  {
   "cell_type": "markdown",
   "metadata": {},
   "source": [
    "<a id='conclusions'></a>\n",
    "## Conclusions\n",
    "\n",
    "> In this analysis, 5 questions were investigated. Here is a quick summary of each question: <br>\n",
    "> 1. Does waiting time increase no-shows?<br>\n",
    "> Yes but by small proportions as time went on. <br>\n",
    "> 2. Does sending an SMS, decrease no-shows?<br>\n",
    "> There was actually a slight increase in no-shows with those who received an SMS. SMS did not help reduce no-shows.<br>\n",
    "> 3. What ages tend to miss appointments more?<br>\n",
    "> This was interesting as all ages from 0 to 55 had higher no-shows. Age group 19-35 had the highest no-shows.<br>\n",
    "> 4. Which day has the most no-shows?<br>\n",
    "> Monday has the highest no-show while Wednesday has the most patients.<br>\n",
    "> 5. Does an increase in disabilities, increase the chances of them being a no-show?<br>\n",
    "> Yes, at 4 disabilities, theres a 50% chance the person will be a no-show.<br>\n",
    "><br>\n",
    ">Can a no-show be predicted? yes but with more analyses of other medical factors, neighbourhood and of course, an inferential study.\n",
    "><br>\n",
    ">**Limitations**: Please note that there are limitations to this analysis:<br>\n",
    ">The analysis on the data is purely visual and descriptive. To get a better grasp on the data as well as more substantial results, inferential statistics need to be carried out. We cannot deduce any signficant results from this analysis."
   ]
  },
  {
   "cell_type": "markdown",
   "metadata": {
    "collapsed": true
   },
   "source": [
    ">Thank you."
   ]
  },
  {
   "cell_type": "code",
   "execution_count": null,
   "metadata": {},
   "outputs": [],
   "source": []
  }
 ],
 "metadata": {
  "kernelspec": {
   "display_name": "Python 3 (ipykernel)",
   "language": "python",
   "name": "python3"
  },
  "language_info": {
   "codemirror_mode": {
    "name": "ipython",
    "version": 3
   },
   "file_extension": ".py",
   "mimetype": "text/x-python",
   "name": "python",
   "nbconvert_exporter": "python",
   "pygments_lexer": "ipython3",
   "version": "3.9.12"
  }
 },
 "nbformat": 4,
 "nbformat_minor": 2
}
